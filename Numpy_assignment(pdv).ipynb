{
  "nbformat": 4,
  "nbformat_minor": 0,
  "metadata": {
    "colab": {
      "name": "Numpy-assignment(pdv).ipynb",
      "provenance": [],
      "authorship_tag": "ABX9TyNwyf6fMedr6HKPOSHh9hkg",
      "include_colab_link": true
    },
    "kernelspec": {
      "name": "python3",
      "display_name": "Python 3"
    },
    "language_info": {
      "name": "python"
    }
  },
  "cells": [
    {
      "cell_type": "markdown",
      "metadata": {
        "id": "view-in-github",
        "colab_type": "text"
      },
      "source": [
        "<a href=\"https://colab.research.google.com/github/fionasylvester/PDV-assignments/blob/main/Numpy_assignment(pdv).ipynb\" target=\"_parent\"><img src=\"https://colab.research.google.com/assets/colab-badge.svg\" alt=\"Open In Colab\"/></a>"
      ]
    },
    {
      "cell_type": "markdown",
      "metadata": {
        "id": "sXUSis_fO_EB"
      },
      "source": [
        "# 1.Create a 4X2 integer array and Prints its attributes"
      ]
    },
    {
      "cell_type": "code",
      "metadata": {
        "colab": {
          "base_uri": "https://localhost:8080/"
        },
        "id": "Jdq1s2EdtJu-",
        "outputId": "f792e419-e940-4804-9490-5db22788fb4e"
      },
      "source": [
        "import numpy as np\n",
        "a= np.random.randint(100,size=(4,2))\n",
        "print(a)\n",
        "\n",
        "print(\"the array shape is : \",a.shape)\n",
        "print(\"the array dimension is : \",a.ndim)\n",
        "print(\"the size of each element in the array is :\", a.itemsize)"
      ],
      "execution_count": 24,
      "outputs": [
        {
          "output_type": "stream",
          "name": "stdout",
          "text": [
            "[[18 12]\n",
            " [65 23]\n",
            " [ 1 65]\n",
            " [67 47]]\n",
            "the array shape is :  (4, 2)\n",
            "the array dimension is :  2\n",
            "the size of each element in the array is : 8\n"
          ]
        }
      ]
    },
    {
      "cell_type": "markdown",
      "metadata": {
        "id": "I853bMf6tKcl"
      },
      "source": [
        "# 2. Create a 5X2 integer array from a range between 100 to 200 such that the difference between each element is 10"
      ]
    },
    {
      "cell_type": "code",
      "metadata": {
        "id": "cl1h3XvYPpRZ",
        "colab": {
          "base_uri": "https://localhost:8080/"
        },
        "outputId": "3c3e3f84-f69a-4abf-ad48-84c2de1e2778"
      },
      "source": [
        "a= np.arange(100,200,10).reshape(5,2)\n",
        "a"
      ],
      "execution_count": null,
      "outputs": [
        {
          "output_type": "execute_result",
          "data": {
            "text/plain": [
              "array([[100, 110],\n",
              "       [120, 130],\n",
              "       [140, 150],\n",
              "       [160, 170],\n",
              "       [180, 190]])"
            ]
          },
          "metadata": {},
          "execution_count": 9
        }
      ]
    },
    {
      "cell_type": "markdown",
      "metadata": {
        "id": "AMpCs5C7ue9d"
      },
      "source": [
        "# 3. Return array of odd rows and even columns from NumPy array of your choice"
      ]
    },
    {
      "cell_type": "code",
      "metadata": {
        "id": "pRmIr9gsuoCt",
        "colab": {
          "base_uri": "https://localhost:8080/"
        },
        "outputId": "91a0951c-9086-4321-fbf4-2c936057b1ee"
      },
      "source": [
        "a = np.array([[ 1,  2,  3,  4,  5],\n",
        "[ 6,  7,  8,  9, 10],\n",
        "[11, 12, 13, 14, 15],\n",
        "[16, 17, 18, 19, 20]])\n",
        "\n",
        "a[::2, 1::2]"
      ],
      "execution_count": 3,
      "outputs": [
        {
          "output_type": "execute_result",
          "data": {
            "text/plain": [
              "array([[ 2,  4],\n",
              "       [12, 14]])"
            ]
          },
          "metadata": {},
          "execution_count": 3
        }
      ]
    },
    {
      "cell_type": "markdown",
      "metadata": {
        "id": "S6ThDMuUu0J0"
      },
      "source": [
        "# 4. Create a result array by adding the following two NumPy arrays. Next, modify the result array by calculating the square of each element"
      ]
    },
    {
      "cell_type": "code",
      "metadata": {
        "id": "-m7mZfutu5RU",
        "colab": {
          "base_uri": "https://localhost:8080/"
        },
        "outputId": "ce86d4c4-b386-49c6-9fce-8beff518dfa8"
      },
      "source": [
        "a= np.array([[ 1,  2,  3,  4,  5],\n",
        "[ 6,  7,  8,  9, 10]])\n",
        "b= np.array([[ 11,  12,  13,  14,  15],\n",
        "[ 16,  17,  18,  19, 20]])\n",
        "c= a+b\n",
        "\n",
        "print(c*c)"
      ],
      "execution_count": 7,
      "outputs": [
        {
          "output_type": "stream",
          "name": "stdout",
          "text": [
            "[[144 196 256 324 400]\n",
            " [484 576 676 784 900]]\n"
          ]
        }
      ]
    },
    {
      "cell_type": "markdown",
      "metadata": {
        "id": "ArOzGwhHxBLG"
      },
      "source": [
        "# 5.Split the array into four equal-sized sub-arrays"
      ]
    },
    {
      "cell_type": "code",
      "metadata": {
        "id": "5hHO_tP5xCAm",
        "colab": {
          "base_uri": "https://localhost:8080/"
        },
        "outputId": "9a09fdf9-84bc-4d5d-e3f4-b3adb05396d9"
      },
      "source": [
        "a = np.array([[ 1,  2,  3,  4,  5],\n",
        "[ 6,  7,  8,  9, 10],\n",
        "[11, 12, 13, 14, 15],\n",
        "[16, 17, 18, 19, 20]])\n",
        "\n",
        "b=np.split(a,4)\n",
        "\n",
        "print(b)"
      ],
      "execution_count": 11,
      "outputs": [
        {
          "output_type": "stream",
          "name": "stdout",
          "text": [
            "[array([[1, 2, 3, 4, 5]]), array([[ 6,  7,  8,  9, 10]]), array([[11, 12, 13, 14, 15]]), array([[16, 17, 18, 19, 20]])]\n"
          ]
        }
      ]
    },
    {
      "cell_type": "markdown",
      "metadata": {
        "id": "7S55ZY7JxCam"
      },
      "source": [
        "# 6.Print max from axis 0 and minfrom axis 1 from the 2-D arrayof your choice."
      ]
    },
    {
      "cell_type": "code",
      "metadata": {
        "id": "x0LJa5t0xEh9",
        "colab": {
          "base_uri": "https://localhost:8080/"
        },
        "outputId": "dbfabbc0-f441-4afc-b9b2-bf28dc9e59f0"
      },
      "source": [
        "a = np.array([\n",
        "[ 100,  2,  3,  4,  5],\n",
        "[ 6,  7,  8,  908, 10],\n",
        "[45, 12, 22, 14, 15],\n",
        "[69, 17, 18, 19, 20]])\n",
        "\n",
        "min= np.amin(a,1)\n",
        "max= np.amax(a,0)\n",
        "\n",
        "print(\"the max of axis 0 :\",max)\n",
        "print(\"the min of axis 1:\", min)"
      ],
      "execution_count": 20,
      "outputs": [
        {
          "output_type": "stream",
          "name": "stdout",
          "text": [
            "the max of axis 0 : [100  17  22 908  20]\n",
            "the min of axis 1: [ 2  6 12 17]\n"
          ]
        }
      ]
    },
    {
      "cell_type": "markdown",
      "metadata": {
        "id": "IxH6dk9fxFEO"
      },
      "source": [
        "# 7.Delete the second column from a givenarray and insert the new column in its place."
      ]
    },
    {
      "cell_type": "code",
      "metadata": {
        "id": "AFpmsycvxGrX",
        "colab": {
          "base_uri": "https://localhost:8080/"
        },
        "outputId": "9b460145-5b65-47c6-fd9b-b64bace86e7f"
      },
      "source": [
        "a = np.array([\n",
        "[ 100,  2,  3,  4,  5],\n",
        "[ 6,  7,  8,  908, 10],\n",
        "[45, 12, 22, 14, 15],\n",
        "[69, 17, 18, 19, 20]])\n",
        "\n",
        "a= np.delete(a,1,1)\n",
        "\n",
        "b=([11,11,11,11])\n",
        "\n",
        "np.insert(a,1,b,1)"
      ],
      "execution_count": 39,
      "outputs": [
        {
          "output_type": "execute_result",
          "data": {
            "text/plain": [
              "array([[100,  11,   3,   4,   5],\n",
              "       [  6,  11,   8, 908,  10],\n",
              "       [ 45,  11,  22,  14,  15],\n",
              "       [ 69,  11,  18,  19,  20]])"
            ]
          },
          "metadata": {},
          "execution_count": 39
        }
      ]
    }
  ]
}